{
 "cells": [
  {
   "cell_type": "code",
   "execution_count": 1,
   "metadata": {},
   "outputs": [],
   "source": [
    "from tensorflow.keras.models import Sequential\n",
    "from tensorflow.keras.layers import Embedding, Flatten, Dense, Dropout, Conv1D, MaxPooling1D\n",
    "from tensorflow.keras.datasets import imdb\n",
    "from tensorflow.keras.preprocessing.sequence import pad_sequences\n",
    "import numpy as np\n",
    "import matplotlib.pyplot as plt\n",
    "import tensorflow as tf\n"
   ]
  },
  {
   "cell_type": "code",
   "execution_count": 2,
   "metadata": {},
   "outputs": [],
   "source": [
    "physical_devices = tf.config.experimental.list_physical_devices('GPU')\n",
    "tf.config.experimental.set_memory_growth(physical_devices[0], True)"
   ]
  },
  {
   "cell_type": "code",
   "execution_count": 3,
   "metadata": {},
   "outputs": [],
   "source": [
    "# Model configuration\n",
    "max_sequence_length = 64\n",
    "num_distinct_words = 20000\n",
    "embedding_output_dims = 15\n",
    "loss_function = 'binary_crossentropy'\n",
    "optimizer = 'adam'\n",
    "additional_metrics = ['accuracy']\n",
    "number_of_epochs = 100\n",
    "verbosity_mode = True\n",
    "validation_split = 0.20\n"
   ]
  },
  {
   "cell_type": "code",
   "execution_count": 4,
   "metadata": {},
   "outputs": [
    {
     "name": "stdout",
     "output_type": "stream",
     "text": [
      "(40000,)\n",
      "(10000,)\n",
      "(40000,)\n",
      "(10000,)\n"
     ]
    }
   ],
   "source": [
    "# Load dataset\n",
    "# (x_train, y_train), (x_test, y_test) = imdb.load_data(num_words=num_distinct_words)\n",
    "(training_data, training_targets), (testing_data, testing_targets) = imdb.load_data(num_words=10000)\n",
    "data = np.concatenate((training_data, testing_data), axis=0)\n",
    "targets = np.concatenate((training_targets, testing_targets), axis=0)\n",
    "\n",
    "x_train = np.asarray(data[10000:])\n",
    "x_test = np.asarray(data[:10000])\n",
    "y_train = np.asarray(targets[10000:])\n",
    "y_test = np.asarray(targets[:10000])\n",
    "\n",
    "print(x_train.shape)\n",
    "print(x_test.shape)\n",
    "\n",
    "print(x_train.shape)\n",
    "print(x_test.shape)\n",
    "\n",
    "# (training_data, training_targets), (testing_data, testing_targets) = imdb.load_data(num_words=20000)\n",
    "# data = np.concatenate((training_data, testing_data), axis=0)\n",
    "# targets = np.concatenate((training_targets, testing_targets), axis=0)"
   ]
  },
  {
   "cell_type": "code",
   "execution_count": 5,
   "metadata": {},
   "outputs": [],
   "source": [
    "\n",
    "# Pad all sequences\n",
    "padded_inputs = pad_sequences(x_train, maxlen=max_sequence_length, value = 0.0) # 0.0 because it corresponds with <PAD>\n",
    "padded_inputs_test = pad_sequences(x_test, maxlen=max_sequence_length, value = 0.0) # 0.0 because it corresponds with <PAD>\n"
   ]
  },
  {
   "cell_type": "code",
   "execution_count": 6,
   "metadata": {},
   "outputs": [
    {
     "name": "stdout",
     "output_type": "stream",
     "text": [
      "=================================================\n",
      "Sample = 5326 | Length = 64\n",
      "=================================================\n",
      "for him to its credit there are some rare numbers before tommy as well as some <UNK> that are very well shot and sometimes the editing is brilliant this might be enough to make some viewers happy as long as you're not <UNK> tommy the sound overall was mediocre in the <UNK> i watched from <UNK> it may be different on video or dvd\n",
      "=================================================\n",
      "Sample = 32868 | Length = 64\n",
      "=================================================\n",
      "<PAD> <PAD> <PAD> <PAD> <PAD> <PAD> <PAD> <PAD> <PAD> <PAD> <PAD> <PAD> <PAD> <START> <UNK> looks like it's gonna cost you a <UNK> 00 to buy a copy either dvd or video format from <UNK> direct br br <UNK> br br sorry about this but imdb won't let me submit this comment unless it has at least 10 lines so br br br br\n",
      "=================================================\n",
      "Sample = 20226 | Length = 64\n",
      "=================================================\n",
      "dialogue the manipulative soundtrack the corny narration all of it as each scene <UNK> i kept thinking people don't act like this it's relentlessly heavy handed and <UNK> in a way i think the movie bullies you into liking it or pretending to like it because it's serious and about real people and confronts issues but man it really did not work for me\n"
     ]
    }
   ],
   "source": [
    "\n",
    "\n",
    "# Here, you'd normally test first that the model generalizes and concatenate all data\n",
    "# (that is, normally, you'd perform e.g. K-fold Cross Validation first)\n",
    "# Then, you can use all data for a full training run. Now, we'll use x_train for training only.\n",
    "\n",
    "# Obtain 3 texts\n",
    "for i in np.random.randint(0, len(padded_inputs), 3):\n",
    "  INDEX_FROM=3   # word index offset\n",
    "  word_to_id = imdb.get_word_index()\n",
    "  word_to_id = {k:(v+INDEX_FROM) for k,v in word_to_id.items()}\n",
    "  word_to_id[\"<PAD>\"] = 0\n",
    "  word_to_id[\"<START>\"] = 1\n",
    "  word_to_id[\"<UNK>\"] = 2\n",
    "  word_to_id[\"<UNUSED>\"] = 3\n",
    "\n",
    "  id_to_word = {value:key for key,value in word_to_id.items()}\n",
    "  print('=================================================')\n",
    "  print(f'Sample = {i} | Length = {len(padded_inputs[i])}')\n",
    "  print('=================================================')\n",
    "  print(' '.join(id_to_word[id] for id in padded_inputs[i] ))\n"
   ]
  },
  {
   "cell_type": "code",
   "execution_count": 7,
   "metadata": {},
   "outputs": [
    {
     "name": "stdout",
     "output_type": "stream",
     "text": [
      "Model: \"sequential\"\n",
      "_________________________________________________________________\n",
      "Layer (type)                 Output Shape              Param #   \n",
      "=================================================================\n",
      "embedding (Embedding)        (None, 64, 15)            300000    \n",
      "_________________________________________________________________\n",
      "dropout (Dropout)            (None, 64, 15)            0         \n",
      "_________________________________________________________________\n",
      "conv1d (Conv1D)              (None, 64, 128)           123008    \n",
      "_________________________________________________________________\n",
      "dropout_1 (Dropout)          (None, 64, 128)           0         \n",
      "_________________________________________________________________\n",
      "conv1d_1 (Conv1D)            (None, 64, 128)           1048704   \n",
      "_________________________________________________________________\n",
      "dropout_2 (Dropout)          (None, 64, 128)           0         \n",
      "_________________________________________________________________\n",
      "max_pooling1d (MaxPooling1D) (None, 16, 128)           0         \n",
      "_________________________________________________________________\n",
      "flatten (Flatten)            (None, 2048)              0         \n",
      "_________________________________________________________________\n",
      "dense (Dense)                (None, 50)                102450    \n",
      "_________________________________________________________________\n",
      "dense_1 (Dense)              (None, 1)                 51        \n",
      "=================================================================\n",
      "Total params: 1,574,213\n",
      "Trainable params: 1,574,213\n",
      "Non-trainable params: 0\n",
      "_________________________________________________________________\n"
     ]
    }
   ],
   "source": [
    "\n",
    "\n",
    "# Define the Keras model\n",
    "model = Sequential()\n",
    "model.add(Embedding(num_distinct_words, embedding_output_dims, input_length=max_sequence_length))\n",
    "model.add(Dropout(0.50))\n",
    "model.add(Conv1D(filters=128, kernel_size=64, padding='same', activation='relu'))\n",
    "model.add(Dropout(0.50))\n",
    "model.add(Conv1D(filters=128, kernel_size=64, padding='same', activation='relu'))\n",
    "model.add(Dropout(0.50))\n",
    "model.add(MaxPooling1D(pool_size=4))\n",
    "model.add(Flatten())\n",
    "# model.add(Dropout(0.50))\n",
    "model.add(Dense(50, activation='relu'))\n",
    "model.add(Dense(1, activation='sigmoid'))\n",
    "\n",
    "# Compile the model\n",
    "model.compile(optimizer=optimizer, loss=loss_function, metrics=additional_metrics)\n",
    "\n",
    "# Give a summary\n",
    "model.summary()\n"
   ]
  },
  {
   "cell_type": "code",
   "execution_count": 8,
   "metadata": {},
   "outputs": [
    {
     "name": "stdout",
     "output_type": "stream",
     "text": [
      "Epoch 1/10\n",
      "1000/1000 [==============================] - 17s 17ms/step - loss: 0.4748 - accuracy: 0.7526 - val_loss: 0.4348 - val_accuracy: 0.8292\n",
      "Epoch 2/10\n",
      "1000/1000 [==============================] - 17s 17ms/step - loss: 0.3369 - accuracy: 0.8519 - val_loss: 0.3716 - val_accuracy: 0.8499\n",
      "Epoch 3/10\n",
      "1000/1000 [==============================] - 17s 17ms/step - loss: 0.2994 - accuracy: 0.8695 - val_loss: 0.3663 - val_accuracy: 0.8468\n",
      "Epoch 4/10\n",
      "1000/1000 [==============================] - 18s 18ms/step - loss: 0.2670 - accuracy: 0.8876 - val_loss: 0.3502 - val_accuracy: 0.8472\n",
      "Epoch 5/10\n",
      "1000/1000 [==============================] - 17s 17ms/step - loss: 0.2422 - accuracy: 0.8981 - val_loss: 0.3531 - val_accuracy: 0.8485\n",
      "Epoch 6/10\n",
      "1000/1000 [==============================] - 18s 18ms/step - loss: 0.2256 - accuracy: 0.9051 - val_loss: 0.3480 - val_accuracy: 0.8485\n",
      "Epoch 7/10\n",
      "1000/1000 [==============================] - 17s 17ms/step - loss: 0.2089 - accuracy: 0.9120 - val_loss: 0.3504 - val_accuracy: 0.8443\n",
      "Epoch 8/10\n",
      "1000/1000 [==============================] - 18s 18ms/step - loss: 0.1850 - accuracy: 0.9229 - val_loss: 0.3618 - val_accuracy: 0.8466\n",
      "Epoch 9/10\n",
      "1000/1000 [==============================] - 17s 17ms/step - loss: 0.1754 - accuracy: 0.9295 - val_loss: 0.3588 - val_accuracy: 0.8494\n",
      "Epoch 10/10\n",
      "1000/1000 [==============================] - 16s 16ms/step - loss: 0.1646 - accuracy: 0.9308 - val_loss: 0.3641 - val_accuracy: 0.8404\n"
     ]
    }
   ],
   "source": [
    "\n",
    "# Train the model\n",
    "history = model.fit(padded_inputs, y_train, epochs=10, verbose=verbosity_mode, validation_split=validation_split)\n",
    "\n"
   ]
  },
  {
   "cell_type": "code",
   "execution_count": 11,
   "metadata": {},
   "outputs": [
    {
     "name": "stdout",
     "output_type": "stream",
     "text": [
      "Test results - Loss: 0.38310301303863525 - Accuracy: 82.99000263214111%\n"
     ]
    }
   ],
   "source": [
    "# Test the model after training\n",
    "test_results = model.evaluate(padded_inputs_test, y_test, verbose=False)\n",
    "print(f'Test results - Loss: {test_results[0]} - Accuracy: {100*test_results[1]}%')\n"
   ]
  },
  {
   "cell_type": "code",
   "execution_count": 23,
   "metadata": {},
   "outputs": [
    {
     "ename": "ValueError",
     "evalue": "Type must be a sub-type of ndarray type",
     "output_type": "error",
     "traceback": [
      "\u001b[0;31m---------------------------------------------------------------------------\u001b[0m",
      "\u001b[0;31mValueError\u001b[0m                                Traceback (most recent call last)",
      "\u001b[0;32m<ipython-input-23-b745da423e25>\u001b[0m in \u001b[0;36m<module>\u001b[0;34m\u001b[0m\n\u001b[0;32m----> 1\u001b[0;31m \u001b[0mprint\u001b[0m\u001b[0;34m(\u001b[0m\u001b[0my_test\u001b[0m\u001b[0;34m.\u001b[0m\u001b[0mview\u001b[0m\u001b[0;34m(\u001b[0m\u001b[0;34m-\u001b[0m\u001b[0;36m1\u001b[0m\u001b[0;34m,\u001b[0m\u001b[0;36m1\u001b[0m\u001b[0;34m)\u001b[0m\u001b[0;34m.\u001b[0m\u001b[0mshape\u001b[0m\u001b[0;34m)\u001b[0m\u001b[0;34m\u001b[0m\u001b[0;34m\u001b[0m\u001b[0m\n\u001b[0m\u001b[1;32m      2\u001b[0m \u001b[0mprint\u001b[0m\u001b[0;34m(\u001b[0m\u001b[0my_pred\u001b[0m\u001b[0;34m.\u001b[0m\u001b[0mshape\u001b[0m\u001b[0;34m)\u001b[0m\u001b[0;34m\u001b[0m\u001b[0;34m\u001b[0m\u001b[0m\n",
      "\u001b[0;31mValueError\u001b[0m: Type must be a sub-type of ndarray type"
     ]
    }
   ],
   "source": [
    "print(y_test.view(-1,1).shape)\n",
    "print(y_pred.shape)"
   ]
  },
  {
   "cell_type": "code",
   "execution_count": 25,
   "metadata": {},
   "outputs": [
    {
     "ename": "ValueError",
     "evalue": "Type must be a sub-type of ndarray type",
     "output_type": "error",
     "traceback": [
      "\u001b[0;31m---------------------------------------------------------------------------\u001b[0m",
      "\u001b[0;31mValueError\u001b[0m                                Traceback (most recent call last)",
      "\u001b[0;32m<ipython-input-25-0515ac3b9a5e>\u001b[0m in \u001b[0;36m<module>\u001b[0;34m\u001b[0m\n\u001b[1;32m      1\u001b[0m \u001b[0my_pred\u001b[0m \u001b[0;34m=\u001b[0m \u001b[0mmodel\u001b[0m\u001b[0;34m.\u001b[0m\u001b[0mpredict\u001b[0m\u001b[0;34m(\u001b[0m\u001b[0mpadded_inputs_test\u001b[0m\u001b[0;34m)\u001b[0m\u001b[0;34m\u001b[0m\u001b[0;34m\u001b[0m\u001b[0m\n\u001b[0;32m----> 2\u001b[0;31m \u001b[0mconfusion_matrix\u001b[0m \u001b[0;34m=\u001b[0m \u001b[0mconfusion_matrix\u001b[0m\u001b[0;34m(\u001b[0m\u001b[0mnp\u001b[0m\u001b[0;34m.\u001b[0m\u001b[0masarray\u001b[0m\u001b[0;34m(\u001b[0m\u001b[0mnp\u001b[0m\u001b[0;34m.\u001b[0m\u001b[0masarray\u001b[0m\u001b[0;34m(\u001b[0m\u001b[0my_test\u001b[0m\u001b[0;34m)\u001b[0m\u001b[0;34m.\u001b[0m\u001b[0mview\u001b[0m\u001b[0;34m(\u001b[0m\u001b[0;34m-\u001b[0m\u001b[0;36m1\u001b[0m\u001b[0;34m,\u001b[0m\u001b[0;36m1\u001b[0m\u001b[0;34m)\u001b[0m\u001b[0;34m)\u001b[0m\u001b[0;34m,\u001b[0m \u001b[0mnp\u001b[0m\u001b[0;34m.\u001b[0m\u001b[0masarray\u001b[0m\u001b[0;34m(\u001b[0m\u001b[0my_pred\u001b[0m\u001b[0;34m)\u001b[0m\u001b[0;34m)\u001b[0m\u001b[0;34m\u001b[0m\u001b[0;34m\u001b[0m\u001b[0m\n\u001b[0m",
      "\u001b[0;31mValueError\u001b[0m: Type must be a sub-type of ndarray type"
     ]
    }
   ],
   "source": [
    "y_pred = model.predict(padded_inputs_test)\n",
    "confusion_matrix = confusion_matrix(np.asarray(np.asarray(y_test).view(-1,1)), np.asarray(y_pred))"
   ]
  },
  {
   "cell_type": "code",
   "execution_count": 16,
   "metadata": {},
   "outputs": [],
   "source": [
    "from sklearn.metrics import confusion_matrix\n",
    "# cm = confusion_matrix(test_y,preds)\n",
    "# plot_confusion_matrix(cm,target_names = None,title='Confusion matrix for Logistic regression',\n",
    "#                           cmap=None,\n",
    "#                           normalize=False)"
   ]
  },
  {
   "cell_type": "code",
   "execution_count": 12,
   "metadata": {},
   "outputs": [
    {
     "data": {
      "image/png": "[encoded data removed]",
      "text/plain": [
       "<Figure size 432x288 with 1 Axes>"
      ]
     },
     "metadata": {
      "needs_background": "light"
     },
     "output_type": "display_data"
    },
    {
     "data": {
      "image/png": "[encoded data removed]",
      "text/plain": [
       "<Figure size 432x288 with 1 Axes>"
      ]
     },
     "metadata": {
      "needs_background": "light"
     },
     "output_type": "display_data"
    }
   ],
   "source": [
    "\n",
    "# Visualize history\n",
    "# Plot history: Validation loss\n",
    "plt.plot(history.history['val_loss'])\n",
    "plt.title('Validation loss history')\n",
    "plt.ylabel('Loss value')\n",
    "plt.xlabel('No. epoch')\n",
    "plt.show()\n",
    "\n",
    "# Plot history: Accuracy\n",
    "plt.plot(history.history['val_accuracy'])\n",
    "plt.title('Validation accuracy history')\n",
    "plt.ylabel('Accuracy value (%)')\n",
    "plt.xlabel('No. epoch')\n",
    "plt.show()"
   ]
  },
  {
   "cell_type": "code",
   "execution_count": null,
   "metadata": {},
   "outputs": [],
   "source": []
  }
 ],
 "metadata": {
  "kernelspec": {
   "display_name": "Python 3",
   "language": "python",
   "name": "python3"
  },
  "language_info": {
   "codemirror_mode": {
    "name": "ipython",
    "version": 3
   },
   "file_extension": ".py",
   "mimetype": "text/x-python",
   "name": "python",
   "nbconvert_exporter": "python",
   "pygments_lexer": "ipython3",
   "version": "3.8.3"
  }
 },
 "nbformat": 4,
 "nbformat_minor": 4
}
